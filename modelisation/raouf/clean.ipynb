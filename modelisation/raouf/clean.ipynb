{
 "cells": [
  {
   "cell_type": "code",
   "execution_count": 191,
   "metadata": {},
   "outputs": [],
   "source": [
    "import pandas as pd\n",
    "import numpy as np \n",
    "from datetime import datetime\n",
    "import os \n",
    "import matplotlib.pyplot as plt\n",
    "import seaborn as sns\n"
   ]
  },
  {
   "cell_type": "code",
   "execution_count": 192,
   "metadata": {},
   "outputs": [],
   "source": [
    "#Créer un dossier pour les donées traitées\n",
    "os.makedirs('data_processed', exist_ok=True)"
   ]
  },
  {
   "cell_type": "code",
   "execution_count": 193,
   "metadata": {},
   "outputs": [
    {
     "name": "stdout",
     "output_type": "stream",
     "text": [
      "Chargement des données...\n"
     ]
    }
   ],
   "source": [
    "#Charger les données\n",
    "print(\"Chargement des données...\")\n",
    "frequentation_df= pd.read_parquet('data/frequentation_data.parquet')\n",
    "parts_marche_df= pd.read_parquet('data/parts_marche_data.parquet')\n",
    "allocine_df=pd.read_parquet('data/allocine_spider.parquet')"
   ]
  },
  {
   "cell_type": "code",
   "execution_count": 194,
   "metadata": {},
   "outputs": [
    {
     "name": "stdout",
     "output_type": "stream",
     "text": [
      "Données de fréquentation : 179 lignes, 5 colonnes\n",
      "Données de parts de marché : 38 lignes, 8 colonnes\n",
      "Données de Allociné : 1908 lignes, 16 colonnes\n"
     ]
    }
   ],
   "source": [
    "#Afficher les info sur les données chargées\n",
    "print(f\"Données de fréquentation : {frequentation_df.shape[0]} lignes, {frequentation_df.shape[1]} colonnes\")\n",
    "print(f\"Données de parts de marché : {parts_marche_df.shape[0]} lignes, {parts_marche_df.shape[1]} colonnes\")\n",
    "print(f\"Données de Allociné : {allocine_df.shape[0]} lignes, {allocine_df.shape[1]} colonnes\")\n"
   ]
  },
  {
   "cell_type": "code",
   "execution_count": 195,
   "metadata": {},
   "outputs": [
    {
     "name": "stdout",
     "output_type": "stream",
     "text": [
      "\n",
      "Nettoyage des données de fréquentation...\n"
     ]
    }
   ],
   "source": [
    "#Nettoyage des données de fréquentation\n",
    "print(\"\\nNettoyage des données de fréquentation...\")\n",
    "#Convertir la colonne de date en datetime\n",
    "# frequentation_df['Date Article'] = pd.to_datetime(frequentation_df['Date Article'], format= '%d %B %Y', errors='coerce')\n",
    "\n",
    "mois_fr_to_en = {\n",
    "    'janvier': 'January', 'février': 'February', 'mars': 'March', \n",
    "    'avril': 'April', 'mai': 'May', 'juin': 'June', \n",
    "    'juillet': 'July', 'août': 'August', 'septembre': 'September', \n",
    "    'octobre': 'October', 'novembre': 'November', 'décembre': 'December'\n",
    "}\n",
    "\n",
    "def convert_fr_date(date_str):\n",
    "    if pd.isna(date_str):\n",
    "        return pd.NaT\n",
    "    \n",
    "    for fr, en in mois_fr_to_en.items():\n",
    "        date_str = date_str.replace(fr, en)\n",
    "    \n",
    "    return pd.to_datetime(date_str, format='%d %B %Y')\n",
    "frequentation_df['Date Article'] = frequentation_df['Date Article'].apply(convert_fr_date)"
   ]
  },
  {
   "cell_type": "code",
   "execution_count": 196,
   "metadata": {},
   "outputs": [],
   "source": [
    "#Créer des variables dérivées\n",
    "frequentation_df['Année']= frequentation_df['Date Article'].dt.year\n",
    "frequentation_df['Mois']=frequentation_df['Date Article'].dt.month\n",
    "frequentation_df['Trimestre']=frequentation_df['Date Article'].dt.quarter"
   ]
  },
  {
   "cell_type": "code",
   "execution_count": 197,
   "metadata": {},
   "outputs": [],
   "source": [
    "#Créer une variable pour la saison\n",
    "frequentation_df['Saison'] = frequentation_df['Mois'].apply(\n",
    "    lambda x: 'Hiver' if x in [12,1,2] else\n",
    "    'Printemps' if x in [3,4,5] else\n",
    "    'Eté' if x in [6,7,8] else 'Automne'\n",
    ")"
   ]
  },
  {
   "cell_type": "code",
   "execution_count": 198,
   "metadata": {},
   "outputs": [],
   "source": [
    "#Convertir les entrées en millions à des entrées en nombre absolu\n",
    "frequentation_df['Entrées (millions)'] = frequentation_df['Année Courante']\n",
    "frequentation_df['Entrées'] = frequentation_df['Année Courante'] * 1000000\n",
    "frequentation_df['Entrées Année Précédente'] = frequentation_df['Année Précédente'] * 1000000"
   ]
  },
  {
   "cell_type": "code",
   "execution_count": 199,
   "metadata": {},
   "outputs": [
    {
     "name": "stdout",
     "output_type": "stream",
     "text": [
      "Données de fréquentation après nettoyage:\n",
      "  Date Article  Période  Année Courante  Année Précédente  Évolution (%)  \\\n",
      "0   2024-11-04  Janvier           13.71             14.82           -7.5   \n",
      "1   2024-11-04  Février           15.07             18.03          -16.4   \n",
      "2   2024-11-04     Mars           15.19             15.76           -3.6   \n",
      "3   2024-11-04    Avril           11.89             18.61          -36.1   \n",
      "4   2024-11-04      Mai           15.72             13.76           14.3   \n",
      "\n",
      "   Année  Mois  Trimestre   Saison  Entrées (millions)     Entrées  \\\n",
      "0   2024    11          4  Automne               13.71  13710000.0   \n",
      "1   2024    11          4  Automne               15.07  15070000.0   \n",
      "2   2024    11          4  Automne               15.19  15190000.0   \n",
      "3   2024    11          4  Automne               11.89  11890000.0   \n",
      "4   2024    11          4  Automne               15.72  15720000.0   \n",
      "\n",
      "   Entrées Année Précédente  \n",
      "0                14820000.0  \n",
      "1                18030000.0  \n",
      "2                15760000.0  \n",
      "3                18610000.0  \n",
      "4                13760000.0  \n"
     ]
    }
   ],
   "source": [
    "print(\"Données de fréquentation après nettoyage:\")\n",
    "print(frequentation_df.head())"
   ]
  },
  {
   "cell_type": "code",
   "execution_count": 200,
   "metadata": {},
   "outputs": [
    {
     "name": "stdout",
     "output_type": "stream",
     "text": [
      "\n",
      "Nettoyage des données de parts de marché...\n"
     ]
    }
   ],
   "source": [
    "#2. NETTOYAGE DES DONNEES DE PARTS DE MARCHE\n",
    "print(\"\\nNettoyage des données de parts de marché...\")\n",
    "#Convertir la colonne de date en datetime\n",
    "mois_fr_to_en = {\n",
    "    'janvier': 'January', 'février': 'February', 'mars': 'March', \n",
    "    'avril': 'April', 'mai': 'May', 'juin': 'June', \n",
    "    'juillet': 'July', 'août': 'August', 'septembre': 'September', \n",
    "    'octobre': 'October', 'novembre': 'November', 'décembre': 'December'\n",
    "}\n",
    "\n",
    "def convert_fr_date(date_str):\n",
    "    if pd.isna(date_str):\n",
    "        return pd.NaT\n",
    "    \n",
    "    for fr, en in mois_fr_to_en.items():\n",
    "        date_str = date_str.replace(fr, en)\n",
    "    \n",
    "    return pd.to_datetime(date_str, format='%d %B %Y')\n",
    "parts_marche_df['Date Article'] = parts_marche_df['Date Article'].apply(convert_fr_date)"
   ]
  },
  {
   "cell_type": "code",
   "execution_count": 201,
   "metadata": {},
   "outputs": [],
   "source": [
    "# Créer des variables dérivées\n",
    "parts_marche_df['Année'] = parts_marche_df['Date Article'].dt.year\n",
    "parts_marche_df['Mois'] = parts_marche_df['Date Article'].dt.month\n",
    "parts_marche_df['Trimestre'] = parts_marche_df['Date Article'].dt.quarter"
   ]
  },
  {
   "cell_type": "code",
   "execution_count": 202,
   "metadata": {},
   "outputs": [
    {
     "name": "stdout",
     "output_type": "stream",
     "text": [
      "Données de parts de marché après nettoyage:\n",
      "  Date Article                                         Période  \\\n",
      "0   2024-11-04                               Dix premiers mois   \n",
      "1   2024-11-04  Année glissante  (de novembre n-1 à octobre n)   \n",
      "2   2023-12-01                              onze premiers mois   \n",
      "3   2023-12-01  année glissante (de décembre n-1 à novembre n)   \n",
      "4   2025-03-03       Année glissante (de mars n-1 à février n)   \n",
      "\n",
      "   Films Français Année Courante  Films Français Année Précédente  \\\n",
      "0                           45.8                             39.0   \n",
      "1                           45.7                             38.8   \n",
      "2                           39.3                             43.2   \n",
      "3                           38.0                             41.6   \n",
      "4                           43.4                             40.0   \n",
      "\n",
      "   Films Américains Année Courante  Films Américains Année Précédente  \\\n",
      "0                             36.9                               43.1   \n",
      "1                             36.1                               45.0   \n",
      "2                             43.4                               37.3   \n",
      "3                             45.6                               39.6   \n",
      "4                             39.4                               38.1   \n",
      "\n",
      "   Autres Films Année Courante  Autres Films Année Précédente  Année  Mois  \\\n",
      "0                         17.3                           17.9   2024    11   \n",
      "1                         18.2                           16.2   2024    11   \n",
      "2                         17.3                           19.5   2023    12   \n",
      "3                         16.4                           18.8   2023    12   \n",
      "4                         17.2                           21.9   2025     3   \n",
      "\n",
      "   Trimestre  \n",
      "0          4  \n",
      "1          4  \n",
      "2          4  \n",
      "3          4  \n",
      "4          1  \n"
     ]
    }
   ],
   "source": [
    "print(\"Données de parts de marché après nettoyage:\")\n",
    "print(parts_marche_df.head())"
   ]
  },
  {
   "cell_type": "code",
   "execution_count": 203,
   "metadata": {},
   "outputs": [
    {
     "name": "stdout",
     "output_type": "stream",
     "text": [
      "\n",
      "Nettoyage des données AlloCiné...\n"
     ]
    }
   ],
   "source": [
    "# 3. NETTOYAGE DES DONNÉES ALLOCINE\n",
    "print(\"\\nNettoyage des données AlloCiné...\")\n",
    "# Convertir la colonne de date en datetime\n",
    "allocine_df['date'] = pd.to_datetime(allocine_df['date'], errors='coerce')"
   ]
  },
  {
   "cell_type": "code",
   "execution_count": 204,
   "metadata": {},
   "outputs": [],
   "source": [
    "# Créer des variables dérivées\n",
    "allocine_df['Année_Sortie'] = allocine_df['date'].dt.year\n",
    "allocine_df['Mois_Sortie'] = allocine_df['date'].dt.month\n",
    "allocine_df['Trimestre_Sortie'] = allocine_df['date'].dt.quarter"
   ]
  },
  {
   "cell_type": "code",
   "execution_count": 205,
   "metadata": {},
   "outputs": [],
   "source": [
    "# Créer une variable pour la saison de sortie\n",
    "allocine_df['Saison_Sortie'] = allocine_df['Mois_Sortie'].apply(\n",
    "    lambda x: 'Hiver' if x in [12, 1, 2] else\n",
    "              'Printemps' if x in [3, 4, 5] else\n",
    "              'Été' if x in [6, 7, 8] else 'Automne'\n",
    ")"
   ]
  },
  {
   "cell_type": "code",
   "execution_count": 206,
   "metadata": {},
   "outputs": [],
   "source": [
    "# Calculer le temps écoulé depuis la sortie (en jours)\n",
    "today = pd.Timestamp.now().normalize()\n",
    "allocine_df['Jours_Depuis_Sortie'] = (today - allocine_df['date']).dt.days"
   ]
  },
  {
   "cell_type": "code",
   "execution_count": 207,
   "metadata": {},
   "outputs": [],
   "source": [
    "# Extraire les genres individuels (car ils sont séparés par des |)\n",
    "allocine_df['genre_principal'] = allocine_df['genre'].str.split('|').str[0]"
   ]
  },
  {
   "cell_type": "code",
   "execution_count": 208,
   "metadata": {},
   "outputs": [],
   "source": [
    "# Nettoyer les données de box-office\n",
    "allocine_df['box_office_ratio'] = allocine_df['french_first_week_boxoffice'] / allocine_df['french_boxoffice']\n",
    "allocine_df['box_office_ratio'] = allocine_df['box_office_ratio'].replace([np.inf, -np.inf], np.nan)"
   ]
  },
  {
   "cell_type": "code",
   "execution_count": 209,
   "metadata": {},
   "outputs": [
    {
     "name": "stdout",
     "output_type": "stream",
     "text": [
      "Données AlloCiné après nettoyage:\n",
      "                title       date genre_principal  french_boxoffice  \\\n",
      "0       La Forteresse 2015-10-07        Aventure              1958   \n",
      "1          38 témoins 2012-03-14           Drame            270549   \n",
      "2  Keep the Lights On 2012-08-22           Drame             13267   \n",
      "3       La Cage Dorée 2013-04-24         Comédie           1197974   \n",
      "4    Zero Dark Thirty 2013-01-23          Action            524533   \n",
      "\n",
      "   french_first_week_boxoffice  box_office_ratio  \n",
      "0                          735          0.375383  \n",
      "1                       104634          0.386747  \n",
      "2                         5908          0.445315  \n",
      "3                       288750          0.241032  \n",
      "4                       237214          0.452238  \n"
     ]
    }
   ],
   "source": [
    "print(\"Données AlloCiné après nettoyage:\")\n",
    "print(allocine_df[['title', 'date', 'genre_principal', 'french_boxoffice', 'french_first_week_boxoffice', 'box_office_ratio']].head())"
   ]
  },
  {
   "cell_type": "code",
   "execution_count": 210,
   "metadata": {},
   "outputs": [
    {
     "name": "stdout",
     "output_type": "stream",
     "text": [
      "\n",
      "Analyse des films par genre...\n",
      "                Genre  Nombre de films\n",
      "0               Drame              929\n",
      "1             Comédie              271\n",
      "2           Animation              195\n",
      "3  Comédie dramatique              112\n",
      "4            Aventure              107\n",
      "5              Biopic               83\n",
      "6              Action               81\n",
      "7            Policier               51\n",
      "8            Thriller               21\n",
      "9   Epouvante-horreur               19\n"
     ]
    }
   ],
   "source": [
    "#4. ANALYSE EXPLORATOIRE DES DONNEES\n",
    "\n",
    "#4.1 Analyse des films par genre\n",
    "print(\"\\nAnalyse des films par genre...\")\n",
    "genre_counts= allocine_df['genre_principal'].value_counts().reset_index()\n",
    "genre_counts.columns= ['Genre', 'Nombre de films']\n",
    "print(genre_counts.head(10))"
   ]
  },
  {
   "cell_type": "code",
   "execution_count": 211,
   "metadata": {},
   "outputs": [],
   "source": [
    "plt.figure(figsize=(12,6))\n",
    "sns.barplot(data=genre_counts.head(10), x='Nombre de films', y='Genre')\n",
    "plt.title('Nombre de films par genre principal')\n",
    "plt.tight_layout()\n",
    "plt.savefig('visualisations/film_par_genre.png')\n",
    "plt.close()"
   ]
  },
  {
   "cell_type": "code",
   "execution_count": 212,
   "metadata": {},
   "outputs": [
    {
     "name": "stdout",
     "output_type": "stream",
     "text": [
      "Visualisation sauvegardée dans 'visualisations/scores_critiques_vs_spectateurs.png'\n"
     ]
    }
   ],
   "source": [
    "import matplotlib.pyplot as plt\n",
    "import numpy as np\n",
    "\n",
    "# Création d'un exemple de données similaire\n",
    "np.random.seed(42)\n",
    "n_points = 100\n",
    "critics_score = np.random.normal(3.5, 0.8, n_points)\n",
    "viewers_score = critics_score + np.random.normal(0, 0.5, n_points)\n",
    "\n",
    "# Création du graphique\n",
    "plt.figure(figsize=(12, 8))\n",
    "\n",
    "# Ligne de référence y=x (quand les scores sont égaux)\n",
    "plt.plot([0, 5], [0, 5], '--', color='gray', alpha=0.5, label='Scores égaux')\n",
    "\n",
    "# Calcul de la différence pour la coloration\n",
    "difference = viewers_score - critics_score\n",
    "\n",
    "# Création du scatter plot avec une colormap basée sur la différence\n",
    "scatter = plt.scatter(critics_score, viewers_score, \n",
    "                     c=difference,  # Coloration basée sur la différence\n",
    "                     cmap='RdYlBu',  # Rouge pour négatif (critiques > spectateurs), Bleu pour positif (spectateurs > critiques)\n",
    "                     alpha=0.6,\n",
    "                     s=100)  # Taille des points\n",
    "\n",
    "# Ajout d'une barre de couleur\n",
    "cbar = plt.colorbar(scatter)\n",
    "cbar.set_label('Différence (Spectateurs - Critiques)', rotation=270, labelpad=15)\n",
    "\n",
    "# Personnalisation\n",
    "plt.xlabel('Score des critiques')\n",
    "plt.ylabel('Score des spectateurs')\n",
    "plt.title('Comparaison des scores critiques et spectateurs\\nColoré selon la différence d\\'opinion', pad=20)\n",
    "plt.grid(True, linestyle='--', alpha=0.7)\n",
    "\n",
    "# Limites des axes\n",
    "plt.xlim(0, 5)\n",
    "plt.ylim(0, 5)\n",
    "\n",
    "# Annotations explicatives\n",
    "plt.text(4.5, 1.5, 'Préféré par\\nles critiques', color='red', ha='right')\n",
    "plt.text(1.5, 4.5, 'Préféré par\\nles spectateurs', color='blue', ha='left')\n",
    "\n",
    "plt.tight_layout()\n",
    "\n",
    "# Sauvegarde dans le dossier visualisations\n",
    "plt.savefig('visualisations/scores_critiques_vs_spectateurs.png', dpi=300, bbox_inches='tight')\n",
    "plt.close()\n",
    "\n",
    "print(\"Visualisation sauvegardée dans 'visualisations/scores_critiques_vs_spectateurs.png'\")\n",
    "\n",
    "# Colormap utilisée : RdYlBu (Rouge-Jaune-Bleu)\n",
    "# - Rouge vif : Les critiques ont beaucoup mieux noté que les spectateurs.\n",
    "# - Rouge clair : Les critiques ont légèrement mieux noté que les spectateurs.\n",
    "# - Jaune : Consensus entre critiques et spectateurs (différence proche de 0).\n",
    "# - Bleu clair : Les spectateurs ont légèrement mieux noté que les critiques.\n",
    "# - Bleu vif : Les spectateurs ont beaucoup mieux noté que les critiques.\n",
    "# Transparence (alpha=0.6) : Permet de visualiser les zones de forte densité."
   ]
  },
  {
   "cell_type": "code",
   "execution_count": 213,
   "metadata": {},
   "outputs": [
    {
     "name": "stdout",
     "output_type": "stream",
     "text": [
      "Corrélation entre scores critiques et spectateurs: 0.28\n"
     ]
    }
   ],
   "source": [
    "# Calculer la corrélation\n",
    "corr = allocine_df['critics_score'].corr(allocine_df['viewers_score'])\n",
    "print(f\"Corrélation entre scores critiques et spectateurs: {corr:.2f}\")"
   ]
  },
  {
   "cell_type": "code",
   "execution_count": 214,
   "metadata": {},
   "outputs": [
    {
     "name": "stdout",
     "output_type": "stream",
     "text": [
      "\n",
      "Analyse du box-office par genre...\n",
      "               Genre       Moyenne    Médiane  Nombre de films\n",
      "0             Action  1.826665e+06   840850.0               81\n",
      "21           Western  1.438719e+06    55028.0                3\n",
      "7   Comédie musicale  1.405050e+06  1405050.5                2\n",
      "2           Aventure  1.325514e+06   448337.0              107\n",
      "19   Science Fiction  1.301448e+06   866769.0                7\n",
      "3             Biopic  7.654050e+05   216262.0               83\n",
      "14       Fantastique  5.546627e+05    40587.0                7\n",
      "5            Comédie  4.988811e+05   193551.0              271\n",
      "20          Thriller  4.928897e+05   164330.0               21\n",
      "17          Policier  4.147760e+05   198398.0               51\n"
     ]
    }
   ],
   "source": [
    "# 4.3 Analyse du box-office par genre\n",
    "print(\"\\nAnalyse du box-office par genre...\")\n",
    "boxoffice_by_genre = allocine_df.groupby('genre_principal')['french_boxoffice'].agg(['mean', 'median', 'count']).reset_index()\n",
    "boxoffice_by_genre = boxoffice_by_genre.sort_values('mean', ascending=False)\n",
    "boxoffice_by_genre.columns = ['Genre', 'Moyenne', 'Médiane', 'Nombre de films']\n",
    "print(boxoffice_by_genre.head(10))\n",
    "\n",
    "plt.figure(figsize=(12, 6))\n",
    "sns.barplot(data=boxoffice_by_genre.head(10), x='Moyenne', y='Genre')\n",
    "plt.title('Box-office moyen par genre principal')\n",
    "plt.xlabel('Box-office moyen (entrées)')\n",
    "plt.tight_layout()\n",
    "plt.savefig('visualisations/boxoffice_par_genre.png')\n",
    "plt.close()"
   ]
  },
  {
   "cell_type": "code",
   "execution_count": 215,
   "metadata": {},
   "outputs": [
    {
     "name": "stdout",
     "output_type": "stream",
     "text": [
      "\n",
      "Analyse de la saisonnalité des sorties...\n",
      "      Saison  Nombre de films\n",
      "0      Hiver              532\n",
      "2  Printemps              453\n",
      "3        Été              394\n",
      "1    Automne              529\n"
     ]
    }
   ],
   "source": [
    "# 4.4 Analyse de la saisonnalité des sorties\n",
    "print(\"\\nAnalyse de la saisonnalité des sorties...\")\n",
    "season_counts = allocine_df['Saison_Sortie'].value_counts().reset_index()\n",
    "season_counts.columns = ['Saison', 'Nombre de films']\n",
    "\n",
    "# Réordonner les saisons\n",
    "season_order = ['Hiver', 'Printemps', 'Été', 'Automne']\n",
    "season_counts['Saison'] = pd.Categorical(season_counts['Saison'], categories=season_order, ordered=True)\n",
    "season_counts = season_counts.sort_values('Saison')\n",
    "\n",
    "print(season_counts)\n",
    "\n",
    "plt.figure(figsize=(10, 6))\n",
    "sns.barplot(data=season_counts, x='Saison', y='Nombre de films')\n",
    "plt.title('Nombre de sorties de films par saison')\n",
    "plt.tight_layout()\n",
    "plt.savefig('visualisations/sorties_par_saison.png')\n",
    "plt.close()"
   ]
  },
  {
   "cell_type": "code",
   "execution_count": 216,
   "metadata": {},
   "outputs": [
    {
     "name": "stdout",
     "output_type": "stream",
     "text": [
      "\n",
      "Analyse du ratio première semaine / box-office total...\n",
      "\n",
      "Statistiques du ratio première semaine / box-office total:\n",
      "- Moyenne: 40.2% du box-office total\n",
      "- Médiane: 39.2% du box-office total\n",
      "- Nombre de films analysés: 1906\n",
      "- Minimum: 0.0%\n",
      "- Maximum: 100.0%\n",
      "\n",
      "Analyse par quartiles:\n",
      "- 25% des films font moins de 30.4% de leur box-office total en première semaine\n",
      "- 50% des films font moins de 39.2% de leur box-office total en première semaine\n",
      "- 75% des films font moins de 49.2% de leur box-office total en première semaine\n"
     ]
    }
   ],
   "source": [
    "# 4.5 Analyse du ratio première semaine / box-office total\n",
    "print(\"\\nAnalyse du ratio première semaine / box-office total...\")\n",
    "\n",
    "# Filtrer les valeurs aberrantes (garder uniquement les ratios entre 0 et 1)\n",
    "ratio_data = allocine_df[(allocine_df['box_office_ratio'] <= 1) & (allocine_df['box_office_ratio'] > 0)]\n",
    "\n",
    "# Calcul des statistiques principales\n",
    "ratio_moyen = ratio_data['box_office_ratio'].mean()\n",
    "ratio_median = ratio_data['box_office_ratio'].median()\n",
    "\n",
    "# Création de la visualisation\n",
    "plt.figure(figsize=(12, 7))\n",
    "\n",
    "# Histogramme avec courbe de densité\n",
    "sns.histplot(data=ratio_data, x='box_office_ratio', bins=20, kde=True, color='skyblue', alpha=0.6)\n",
    "\n",
    "# Ajout des lignes verticales pour la moyenne et la médiane\n",
    "plt.axvline(ratio_moyen, color='red', linestyle='--', label=f'Moyenne: {ratio_moyen:.2%}')\n",
    "plt.axvline(ratio_median, color='green', linestyle='--', label=f'Médiane: {ratio_median:.2%}')\n",
    "\n",
    "# Personnalisation du graphique\n",
    "plt.title('Distribution du ratio Box-office première semaine / Box-office total', pad=20)\n",
    "plt.xlabel('Ratio (Première semaine / Total)')\n",
    "plt.ylabel('Nombre de films')\n",
    "\n",
    "# Amélioration de la grille\n",
    "plt.grid(True, linestyle='--', alpha=0.3)\n",
    "\n",
    "# Amélioration de la légende\n",
    "plt.legend(loc='upper right')\n",
    "\n",
    "# Ajustement des axes pour plus de clarté\n",
    "plt.xlim(0, 1)\n",
    "plt.gca().xaxis.set_major_formatter(plt.FuncFormatter(lambda x, _: '{:.0%}'.format(x)))\n",
    "\n",
    "plt.tight_layout()\n",
    "\n",
    "# Sauvegarde\n",
    "plt.savefig('visualisations/ratio_premiere_semaine.png', dpi=300, bbox_inches='tight')\n",
    "plt.close()\n",
    "\n",
    "# Affichage des statistiques détaillées\n",
    "print(\"\\nStatistiques du ratio première semaine / box-office total:\")\n",
    "print(f\"- Moyenne: {ratio_moyen:.1%} du box-office total\")\n",
    "print(f\"- Médiane: {ratio_median:.1%} du box-office total\")\n",
    "print(f\"- Nombre de films analysés: {len(ratio_data)}\")\n",
    "print(f\"- Minimum: {ratio_data['box_office_ratio'].min():.1%}\")\n",
    "print(f\"- Maximum: {ratio_data['box_office_ratio'].max():.1%}\")\n",
    "\n",
    "# Interprétation des quartiles\n",
    "q1 = ratio_data['box_office_ratio'].quantile(0.25)\n",
    "q3 = ratio_data['box_office_ratio'].quantile(0.75)\n",
    "print(f\"\\nAnalyse par quartiles:\")\n",
    "print(f\"- 25% des films font moins de {q1:.1%} de leur box-office total en première semaine\")\n",
    "print(f\"- 50% des films font moins de {ratio_median:.1%} de leur box-office total en première semaine\")\n",
    "print(f\"- 75% des films font moins de {q3:.1%} de leur box-office total en première semaine\")\n",
    "# Cette analyse examine le ratio entre les recettes de la première semaine et le box-office total d'un film.\n",
    "# Elle permet de comprendre l'importance de la première semaine dans le succès commercial d'un film.\n",
    "# Les statistiques (moyenne, médiane, quartiles) montrent si les films réalisent une grande partie de leurs recettes\n",
    "# dès la première semaine ou s'ils ont une performance plus stable sur le long terme.\n",
    "# Cela aide à identifier les films à succès rapide et ceux qui attirent un public sur une période prolongée.\n"
   ]
  },
  {
   "cell_type": "code",
   "execution_count": 217,
   "metadata": {},
   "outputs": [
    {
     "name": "stdout",
     "output_type": "stream",
     "text": [
      "\n",
      "Enregistrement des données nettoyées...\n",
      "Nettoyage et analyse exploratoire terminés!\n"
     ]
    }
   ],
   "source": [
    "# 5. ENREGISTRER LES DONNÉES NETTOYÉES\n",
    "print(\"\\nEnregistrement des données nettoyées...\")\n",
    "frequentation_df.to_parquet('data_processed/frequentation_cleaned.parquet')\n",
    "parts_marche_df.to_parquet('data_processed/parts_marche_cleaned.parquet')\n",
    "allocine_df.to_parquet('data_processed/allocine_cleaned.parquet')\n",
    "\n",
    "print(\"Nettoyage et analyse exploratoire terminés!\")"
   ]
  }
 ],
 "metadata": {
  "kernelspec": {
   "display_name": ".venv",
   "language": "python",
   "name": "python3"
  },
  "language_info": {
   "codemirror_mode": {
    "name": "ipython",
    "version": 3
   },
   "file_extension": ".py",
   "mimetype": "text/x-python",
   "name": "python",
   "nbconvert_exporter": "python",
   "pygments_lexer": "ipython3",
   "version": "3.12.3"
  }
 },
 "nbformat": 4,
 "nbformat_minor": 2
}
