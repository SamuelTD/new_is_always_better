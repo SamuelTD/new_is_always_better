{
 "cells": [
  {
   "cell_type": "markdown",
   "metadata": {},
   "source": [
    "### 1. Imports et configuration"
   ]
  },
  {
   "cell_type": "code",
   "execution_count": 110,
   "metadata": {},
   "outputs": [],
   "source": [
    "import pandas as pd\n",
    "import numpy as np\n",
    "import os\n",
    "\n",
    "# Configuration pour une meilleure lisibilité\n",
    "pd.set_option('display.max_columns', None)"
   ]
  },
  {
   "cell_type": "markdown",
   "metadata": {},
   "source": [
    "### 2. Création des dossiers\n"
   ]
  },
  {
   "cell_type": "code",
   "execution_count": 111,
   "metadata": {},
   "outputs": [],
   "source": [
    "# Créer des dossiers pour les données traitées\n",
    "os.makedirs('data_processed', exist_ok=True)"
   ]
  },
  {
   "cell_type": "markdown",
   "metadata": {},
   "source": [
    "### 3. Chargement des données\n"
   ]
  },
  {
   "cell_type": "code",
   "execution_count": 112,
   "metadata": {},
   "outputs": [
    {
     "name": "stdout",
     "output_type": "stream",
     "text": [
      "Chargement des données...\n"
     ]
    }
   ],
   "source": [
    "\n",
    "print(\"Chargement des données...\")\n",
    "allocine_df = pd.read_parquet('data/allocine_spider.parquet')\n",
    "frequentation_df = pd.read_parquet('data/frequentation_data.parquet')\n",
    "parts_marche_df = pd.read_parquet('data/parts_marche_data.parquet')\n",
    "actor_df = pd.read_parquet('data/actor_JpboxSpider.parquet')"
   ]
  },
  {
   "cell_type": "code",
   "execution_count": 113,
   "metadata": {},
   "outputs": [
    {
     "name": "stdout",
     "output_type": "stream",
     "text": [
      "Allociné : (9158, 18)\n",
      "Fréquentation : (1526, 5)\n",
      "Parts de marché : (202, 8)\n",
      "Acteurs : (499, 8)\n"
     ]
    }
   ],
   "source": [
    "# Afficher les dimensions\n",
    "print(f\"Allociné : {allocine_df.shape}\")\n",
    "print(f\"Fréquentation : {frequentation_df.shape}\")\n",
    "print(f\"Parts de marché : {parts_marche_df.shape}\")\n",
    "print(f\"Acteurs : {actor_df.shape}\")"
   ]
  },
  {
   "cell_type": "code",
   "execution_count": 114,
   "metadata": {},
   "outputs": [
    {
     "name": "stdout",
     "output_type": "stream",
     "text": [
      "Aperçu des données avec la variable COVID :\n",
      "     year  covid_period\n",
      "0  2023.0             0\n",
      "1  2020.0             1\n",
      "2  2024.0             0\n",
      "3  2022.0             0\n",
      "4  2020.0             1\n"
     ]
    }
   ],
   "source": [
    "# Création d'une variable indicatrice pour la période COVID\n",
    "allocine_df['year'] = pd.to_datetime(allocine_df['date'], errors='coerce').dt.year\n",
    "allocine_df['covid_period'] = allocine_df['year'].apply(lambda x: 1 if 2020 <= x <= 2021 else 0)\n",
    "\n",
    "# Vérification de la nouvelle colonne\n",
    "print(\"Aperçu des données avec la variable COVID :\")\n",
    "print(allocine_df[['year', 'covid_period']].head())\n",
    "\n"
   ]
  },
  {
   "cell_type": "markdown",
   "metadata": {},
   "source": [
    "### 4. Nettoyage du dataset Allociné\n"
   ]
  },
  {
   "cell_type": "code",
   "execution_count": 115,
   "metadata": {},
   "outputs": [
    {
     "name": "stdout",
     "output_type": "stream",
     "text": [
      "Allociné après suppression des doublons : (9158, 20)\n"
     ]
    }
   ],
   "source": [
    "#### 4.1 Suppression des doublons\n",
    "\n",
    "allocine_df = allocine_df.drop_duplicates(subset=['title', 'date'], keep='last')\n",
    "print(f\"Allociné après suppression des doublons : {allocine_df.shape}\")"
   ]
  },
  {
   "cell_type": "code",
   "execution_count": 116,
   "metadata": {},
   "outputs": [
    {
     "data": {
      "text/plain": [
       "0       116.0\n",
       "1        90.0\n",
       "2        84.0\n",
       "3       120.0\n",
       "4       137.0\n",
       "        ...  \n",
       "9153    127.0\n",
       "9154    114.0\n",
       "9155     96.0\n",
       "9156     77.0\n",
       "9157     98.0\n",
       "Name: length, Length: 9158, dtype: float64"
      ]
     },
     "execution_count": 116,
     "metadata": {},
     "output_type": "execute_result"
    }
   ],
   "source": [
    "#### 4.2 Gestion des valeurs manquantes\n",
    "\n",
    "allocine_df['critics_score'] = pd.to_numeric(allocine_df['critics_score'], errors='coerce')\n",
    "allocine_df['viewers_score'] = pd.to_numeric(allocine_df['viewers_score'], errors='coerce')\n",
    "\n",
    "allocine_df['critics_score'].fillna(allocine_df['critics_score'].median())\n",
    "allocine_df['viewers_score'].fillna(allocine_df['viewers_score'].median())\n",
    "\n",
    "allocine_df['length'] = pd.to_numeric(allocine_df['length'], errors='coerce')\n",
    "allocine_df['length'].fillna(allocine_df['length'].median())"
   ]
  },
  {
   "cell_type": "code",
   "execution_count": 117,
   "metadata": {},
   "outputs": [],
   "source": [
    "# for col in ['genre', 'actors', 'directors', 'nationality', 'langage']:\n",
    "#     allocine_df[col] = (\n",
    "#         allocine_df[col]\n",
    "#         .str.replace(r'[;,/]+', '|', regex=True)  # Remplace virgules, points-virgules, etc. par |\n",
    "#         .str.replace(r'\\s*\\|\\s*', '|', regex=True)  # Nettoie les espaces autour des |\n",
    "#     )\n",
    "allocine_df['genre'] = allocine_df['genre'].str.split('|')\n",
    "allocine_df['actors'] = allocine_df['actors'].str.split('|')\n",
    "allocine_df['nationality'] = allocine_df['nationality'].str.split('|')\n",
    "allocine_df['langage'] = allocine_df['langage'].str.split('|')\n",
    "allocine_df['directors'] = allocine_df['directors'].str.split('|')\n",
    "\n",
    "for col in ['genre', 'langage', 'nationality', 'actors']:\n",
    "    allocine_df[col] = allocine_df[col].mask(allocine_df[col].isna(), ['no value'])"
   ]
  },
  {
   "cell_type": "code",
   "execution_count": 118,
   "metadata": {},
   "outputs": [
    {
     "data": {
      "text/plain": [
       "actors                          object\n",
       "critics_score                  float64\n",
       "date                            object\n",
       "directors                       object\n",
       "editor                          object\n",
       "french_boxoffice                 int64\n",
       "french_first_week_boxoffice    float64\n",
       "french_visa                     object\n",
       "genre                           object\n",
       "langage                         object\n",
       "length                         float64\n",
       "nationality                     object\n",
       "title                           object\n",
       "url                             object\n",
       "us_boxoffice                   float64\n",
       "us_first_week_boxoffice        float64\n",
       "viewers_score                  float64\n",
       "vo_title                        object\n",
       "year                           float64\n",
       "covid_period                     int64\n",
       "dtype: object"
      ]
     },
     "execution_count": 118,
     "metadata": {},
     "output_type": "execute_result"
    }
   ],
   "source": [
    "allocine_df.dtypes"
   ]
  },
  {
   "cell_type": "code",
   "execution_count": 119,
   "metadata": {},
   "outputs": [
    {
     "name": "stdout",
     "output_type": "stream",
     "text": [
      "Films totaux au départ : 9158\n",
      "Dates invalides (supprimées) : 0\n",
      "\n",
      "Avant filtrage par année >= 2001 : 9154 films\n",
      "Après filtrage : 9115 films restants\n"
     ]
    }
   ],
   "source": [
    "\n",
    "# Étape 1 : Compter les films avant tout traitement\n",
    "print(f\"Films totaux au départ : {len(allocine_df)}\")\n",
    "\n",
    "# Étape 2 : Conversion de la date en datetime et suppression des dates invalides\n",
    "allocine_df['date'] = pd.to_datetime(allocine_df['date'], errors='coerce', format='%Y-%m-%d')\n",
    "allocine_df = allocine_df[allocine_df['date'].notna()]  # Supprimer les dates invalides\n",
    "\n",
    "invalid_dates_count = len(allocine_df) - len(allocine_df[allocine_df['date'].notna()])\n",
    "print(f\"Dates invalides (supprimées) : {invalid_dates_count}\")\n",
    "\n",
    "# Étape 3 : Filtrage par année (directement via la colonne datetime)\n",
    "min_year = 2001\n",
    "mask = allocine_df['date'].dt.year >= min_year  # Extraction de l'année directement dans le filtre\n",
    "\n",
    "print(f\"\\nAvant filtrage par année >= {min_year} : {len(allocine_df)} films\")\n",
    "allocine_df = allocine_df[mask]\n",
    "print(f\"Après filtrage : {len(allocine_df)} films restants\")\n"
   ]
  },
  {
   "cell_type": "code",
   "execution_count": 120,
   "metadata": {},
   "outputs": [
    {
     "name": "stdout",
     "output_type": "stream",
     "text": [
      "La valeur correspondant au 5ème percentile est : 6487.200000000003\n"
     ]
    }
   ],
   "source": [
    "#### 4.5 Suppression des outliers\n",
    "\n",
    "allocine_df = allocine_df[allocine_df['french_boxoffice'].notna()]\n",
    "\n",
    "q_low = allocine_df['french_boxoffice'].quantile(0.20)\n",
    "allocine_df = allocine_df[\n",
    "    (allocine_df['french_boxoffice'] > q_low)\n",
    "]\n",
    "print(f'La valeur correspondant au 5ème percentile est : {q_low}')"
   ]
  },
  {
   "cell_type": "code",
   "execution_count": 121,
   "metadata": {},
   "outputs": [
    {
     "name": "stdout",
     "output_type": "stream",
     "text": [
      "Aperçu Allociné nettoyé :\n",
      "<class 'pandas.core.frame.DataFrame'>\n",
      "Index: 7292 entries, 0 to 9157\n",
      "Data columns (total 20 columns):\n",
      " #   Column                       Non-Null Count  Dtype         \n",
      "---  ------                       --------------  -----         \n",
      " 0   actors                       7292 non-null   object        \n",
      " 1   critics_score                7291 non-null   float64       \n",
      " 2   date                         7292 non-null   datetime64[ns]\n",
      " 3   directors                    7292 non-null   object        \n",
      " 4   editor                       7292 non-null   object        \n",
      " 5   french_boxoffice             7292 non-null   int64         \n",
      " 6   french_first_week_boxoffice  7291 non-null   float64       \n",
      " 7   french_visa                  7292 non-null   object        \n",
      " 8   genre                        7292 non-null   object        \n",
      " 9   langage                      7292 non-null   object        \n",
      " 10  length                       7287 non-null   float64       \n",
      " 11  nationality                  7292 non-null   object        \n",
      " 12  title                        7292 non-null   object        \n",
      " 13  url                          7292 non-null   object        \n",
      " 14  us_boxoffice                 2290 non-null   float64       \n",
      " 15  us_first_week_boxoffice      2290 non-null   float64       \n",
      " 16  viewers_score                7214 non-null   float64       \n",
      " 17  vo_title                     2859 non-null   object        \n",
      " 18  year                         7292 non-null   float64       \n",
      " 19  covid_period                 7292 non-null   int64         \n",
      "dtypes: datetime64[ns](1), float64(7), int64(2), object(10)\n",
      "memory usage: 1.2+ MB\n",
      "None\n",
      "                                              actors  critics_score  \\\n",
      "0  [Arieh Worthalter, Arthur Harari, Stéphan Guér...            4.4   \n",
      "2                                     [Thom Hoffman]            2.8   \n",
      "3  [Lou de Laâge, Raphaël Personnaz, Isabelle Car...            3.3   \n",
      "4  [Michael B. Jordan, Jamie Foxx, Brie Larson, R...            3.0   \n",
      "5  [Zac Efron, Harris Dickinson, Jeremy Allen Whi...            3.9   \n",
      "\n",
      "        date                           directors                   editor  \\\n",
      "0 2023-09-27                       [Cédric Kahn]                 Ad Vitam   \n",
      "2 2024-08-07  [Richard Claus, Karsten Kiilerich]                 Le Pacte   \n",
      "3 2022-12-21                   [Olivier Treiner]                      SND   \n",
      "4 2020-01-29             [Destin Daniel Cretton]      Warner Bros. France   \n",
      "5 2024-01-24                       [Sean Durkin]  Metropolitan FilmExport   \n",
      "\n",
      "   french_boxoffice  french_first_week_boxoffice french_visa  \\\n",
      "0            351881                     110011.0      157303   \n",
      "2            130734                      39119.0      160622   \n",
      "3            200631                      64039.0      152607   \n",
      "4            315693                     113153.0      152118   \n",
      "5             91345                      46627.0      161309   \n",
      "\n",
      "                                       genre        langage  length  \\\n",
      "0  [Policier, Drame, Historique, Judiciaire]     [Français]   116.0   \n",
      "2    [Aventure, Animation, Comédie, Famille]  [Néerlandais]    84.0   \n",
      "3                                    [Drame]     [Français]   120.0   \n",
      "4                            [Biopic, Drame]      [Anglais]   137.0   \n",
      "5                            [Biopic, Drame]      [Anglais]   133.0   \n",
      "\n",
      "                               nationality                    title  \\\n",
      "0                                 [France]        Le Procès Goldman   \n",
      "2  [Danemark, France, Allemagne, Pays-Bas]   Petit Panda en Afrique   \n",
      "3                                 [France]  Le Tourbillon de la vie   \n",
      "4                                 [U.S.A.]    La Voie de la justice   \n",
      "5                [Grande-Bretagne, U.S.A.]                Iron Claw   \n",
      "\n",
      "                                                 url  us_boxoffice  \\\n",
      "0  /article/fichearticle_gen_carticle=1000093547....           NaN   \n",
      "2  /article/fichearticle_gen_carticle=1000096064....           NaN   \n",
      "3  /article/fichearticle_gen_carticle=1000006465....           NaN   \n",
      "4  /video/player_gen_cmedia=19586793&cfilm=239735...    27054597.0   \n",
      "5  /video/player_gen_cmedia=19604667&cfilm=305544...    29178125.0   \n",
      "\n",
      "   us_first_week_boxoffice  viewers_score              vo_title    year  \\\n",
      "0                      NaN            3.9                  None  2023.0   \n",
      "2                      NaN            3.0  Panda Bear in Africa  2024.0   \n",
      "3                      NaN            3.8                  None  2022.0   \n",
      "4                9713228.0            4.1            Just Mercy  2020.0   \n",
      "5                5044847.0            4.1         The Iron Claw  2024.0   \n",
      "\n",
      "   covid_period  \n",
      "0             0  \n",
      "2             0  \n",
      "3             0  \n",
      "4             1  \n",
      "5             0  \n"
     ]
    }
   ],
   "source": [
    "#### 4.6 Vérification finale\n",
    "\n",
    "print(\"Aperçu Allociné nettoyé :\")\n",
    "print(allocine_df.info())\n",
    "print(allocine_df.head())"
   ]
  },
  {
   "cell_type": "markdown",
   "metadata": {},
   "source": [
    "### 5. Nettoyage du dataset Fréquentation\n"
   ]
  },
  {
   "cell_type": "code",
   "execution_count": 122,
   "metadata": {},
   "outputs": [],
   "source": [
    "#### 5.1 Conversion des colonnes numériques\n",
    "\n",
    "for col in ['Année Courante', 'Année Précédente', 'Évolution (%)']:\n",
    "    frequentation_df[col] = pd.to_numeric(frequentation_df[col], errors='coerce')\n",
    "\n",
    "frequentation_df = frequentation_df[frequentation_df['Année Courante'] >= 0]"
   ]
  },
  {
   "cell_type": "code",
   "execution_count": 123,
   "metadata": {},
   "outputs": [
    {
     "data": {
      "text/plain": [
       "0       -7.8\n",
       "1      -16.4\n",
       "2       -4.8\n",
       "3      -35.5\n",
       "4      -17.1\n",
       "        ... \n",
       "1521     8.8\n",
       "1522    -3.4\n",
       "1523   -12.1\n",
       "1524    16.3\n",
       "1525     6.8\n",
       "Name: Évolution (%), Length: 1486, dtype: float64"
      ]
     },
     "execution_count": 123,
     "metadata": {},
     "output_type": "execute_result"
    }
   ],
   "source": [
    "#### 5.2 Imputation des valeurs manquantes\n",
    "\n",
    "frequentation_df['Évolution (%)'].fillna(0)"
   ]
  },
  {
   "cell_type": "code",
   "execution_count": 124,
   "metadata": {},
   "outputs": [],
   "source": [
    "#### 5.3 Suppression des doublons\n",
    "\n",
    "frequentation_df = frequentation_df.drop_duplicates(\n",
    "    subset=['Date Article', 'Période'], keep='last'\n",
    ")"
   ]
  },
  {
   "cell_type": "code",
   "execution_count": 125,
   "metadata": {},
   "outputs": [
    {
     "name": "stdout",
     "output_type": "stream",
     "text": [
      "Aperçu Fréquentation nettoyé :\n",
      "<class 'pandas.core.frame.DataFrame'>\n",
      "Index: 1356 entries, 0 to 1525\n",
      "Data columns (total 5 columns):\n",
      " #   Column            Non-Null Count  Dtype  \n",
      "---  ------            --------------  -----  \n",
      " 0   Date Article      1356 non-null   object \n",
      " 1   Période           1356 non-null   object \n",
      " 2   Année Courante    1356 non-null   float64\n",
      " 3   Année Précédente  1302 non-null   float64\n",
      " 4   Évolution (%)     1270 non-null   float64\n",
      "dtypes: float64(3), object(2)\n",
      "memory usage: 63.6+ KB\n",
      "None\n",
      "  Date Article               Période  Année Courante  Année Précédente  \\\n",
      "0   2024-05-03               Janvier           13.67             14.82   \n",
      "1   2024-05-03               Février           15.07             18.03   \n",
      "2   2024-05-03                  Mars           15.00             15.76   \n",
      "3   2024-05-03                 Avril           12.00             18.61   \n",
      "4   2024-05-03  quatre premiers mois           55.75             67.21   \n",
      "\n",
      "   Évolution (%)  \n",
      "0           -7.8  \n",
      "1          -16.4  \n",
      "2           -4.8  \n",
      "3          -35.5  \n",
      "4          -17.1  \n"
     ]
    }
   ],
   "source": [
    "#### 5.4 Vérification finale\n",
    "\n",
    "print(\"Aperçu Fréquentation nettoyé :\")\n",
    "print(frequentation_df.info())\n",
    "print(frequentation_df.head())"
   ]
  },
  {
   "cell_type": "markdown",
   "metadata": {},
   "source": [
    "### 6. Nettoyage du dataset Parts de marché"
   ]
  },
  {
   "cell_type": "code",
   "execution_count": 126,
   "metadata": {},
   "outputs": [],
   "source": [
    "#### 6.1 Conversion des colonnes numériques\n",
    "\n",
    "for col in parts_marche_df.columns:\n",
    "    if col not in ['Date Article', 'Période']:\n",
    "        parts_marche_df[col] = pd.to_numeric(parts_marche_df[col], errors='coerce')"
   ]
  },
  {
   "cell_type": "code",
   "execution_count": 127,
   "metadata": {},
   "outputs": [],
   "source": [
    "#### 6.2 Suppression des valeurs aberrantes\n",
    "\n",
    "parts_marche_df = parts_marche_df[\n",
    "    (parts_marche_df['Films Français Année Courante'] <= 100) &\n",
    "    (parts_marche_df['Films Américains Année Courante'] <= 100) &\n",
    "    (parts_marche_df['Autres Films Année Courante'] <= 100)\n",
    "]"
   ]
  },
  {
   "cell_type": "code",
   "execution_count": 128,
   "metadata": {},
   "outputs": [
    {
     "data": {
      "text/html": [
       "<div>\n",
       "<style scoped>\n",
       "    .dataframe tbody tr th:only-of-type {\n",
       "        vertical-align: middle;\n",
       "    }\n",
       "\n",
       "    .dataframe tbody tr th {\n",
       "        vertical-align: top;\n",
       "    }\n",
       "\n",
       "    .dataframe thead th {\n",
       "        text-align: right;\n",
       "    }\n",
       "</style>\n",
       "<table border=\"1\" class=\"dataframe\">\n",
       "  <thead>\n",
       "    <tr style=\"text-align: right;\">\n",
       "      <th></th>\n",
       "      <th>Date Article</th>\n",
       "      <th>Période</th>\n",
       "      <th>Films Français Année Courante</th>\n",
       "      <th>Films Français Année Précédente</th>\n",
       "      <th>Films Américains Année Courante</th>\n",
       "      <th>Films Américains Année Précédente</th>\n",
       "      <th>Autres Films Année Courante</th>\n",
       "      <th>Autres Films Année Précédente</th>\n",
       "    </tr>\n",
       "  </thead>\n",
       "  <tbody>\n",
       "    <tr>\n",
       "      <th>1</th>\n",
       "      <td>2024-05-03</td>\n",
       "      <td>quatre premiers mois</td>\n",
       "      <td>44.5</td>\n",
       "      <td>47.8</td>\n",
       "      <td>29.9</td>\n",
       "      <td>39.5</td>\n",
       "      <td>25.7</td>\n",
       "      <td>12.7</td>\n",
       "    </tr>\n",
       "    <tr>\n",
       "      <th>2</th>\n",
       "      <td>2024-05-03</td>\n",
       "      <td>année glissante (de mai n-1 à avril n)</td>\n",
       "      <td>38.5</td>\n",
       "      <td>41.2</td>\n",
       "      <td>38.2</td>\n",
       "      <td>44.0</td>\n",
       "      <td>23.3</td>\n",
       "      <td>14.8</td>\n",
       "    </tr>\n",
       "    <tr>\n",
       "      <th>4</th>\n",
       "      <td>2024-04-02</td>\n",
       "      <td>trois premiers mois</td>\n",
       "      <td>46.6</td>\n",
       "      <td>50.2</td>\n",
       "      <td>25.4</td>\n",
       "      <td>37.1</td>\n",
       "      <td>28.0</td>\n",
       "      <td>12.7</td>\n",
       "    </tr>\n",
       "    <tr>\n",
       "      <th>5</th>\n",
       "      <td>2024-04-02</td>\n",
       "      <td>année glissante (de avril n-1 à mars n)</td>\n",
       "      <td>38.9</td>\n",
       "      <td>41.4</td>\n",
       "      <td>38.5</td>\n",
       "      <td>42.5</td>\n",
       "      <td>22.6</td>\n",
       "      <td>16.1</td>\n",
       "    </tr>\n",
       "    <tr>\n",
       "      <th>7</th>\n",
       "      <td>2023-11-02</td>\n",
       "      <td>dix premiers mois</td>\n",
       "      <td>38.5</td>\n",
       "      <td>42.0</td>\n",
       "      <td>45.9</td>\n",
       "      <td>36.9</td>\n",
       "      <td>15.6</td>\n",
       "      <td>21.0</td>\n",
       "    </tr>\n",
       "    <tr>\n",
       "      <th>...</th>\n",
       "      <td>...</td>\n",
       "      <td>...</td>\n",
       "      <td>...</td>\n",
       "      <td>...</td>\n",
       "      <td>...</td>\n",
       "      <td>...</td>\n",
       "      <td>...</td>\n",
       "      <td>...</td>\n",
       "    </tr>\n",
       "    <tr>\n",
       "      <th>193</th>\n",
       "      <td>2010-12-29</td>\n",
       "      <td>Dix premiers mois</td>\n",
       "      <td>36.8</td>\n",
       "      <td>47.0</td>\n",
       "      <td>48.5</td>\n",
       "      <td>44.3</td>\n",
       "      <td>14.8</td>\n",
       "      <td>8.7</td>\n",
       "    </tr>\n",
       "    <tr>\n",
       "      <th>195</th>\n",
       "      <td>2010-12-08</td>\n",
       "      <td>11 premiers mois</td>\n",
       "      <td>36.4</td>\n",
       "      <td>36.6</td>\n",
       "      <td>47.6</td>\n",
       "      <td>48.9</td>\n",
       "      <td>16.0</td>\n",
       "      <td>14.5</td>\n",
       "    </tr>\n",
       "    <tr>\n",
       "      <th>197</th>\n",
       "      <td>2010-12-29</td>\n",
       "      <td>Sept premiers mois</td>\n",
       "      <td>35.2</td>\n",
       "      <td>50.1</td>\n",
       "      <td>48.0</td>\n",
       "      <td>42.3</td>\n",
       "      <td>16.8</td>\n",
       "      <td>7.6</td>\n",
       "    </tr>\n",
       "    <tr>\n",
       "      <th>199</th>\n",
       "      <td>2010-12-29</td>\n",
       "      <td>10 premiers mois</td>\n",
       "      <td>34.7</td>\n",
       "      <td>36.5</td>\n",
       "      <td>49.5</td>\n",
       "      <td>47.9</td>\n",
       "      <td>15.7</td>\n",
       "      <td>15.7</td>\n",
       "    </tr>\n",
       "    <tr>\n",
       "      <th>201</th>\n",
       "      <td>2010-12-29</td>\n",
       "      <td>8 premiers mois</td>\n",
       "      <td>33.0</td>\n",
       "      <td>33.5</td>\n",
       "      <td>53.5</td>\n",
       "      <td>49.0</td>\n",
       "      <td>13.5</td>\n",
       "      <td>17.5</td>\n",
       "    </tr>\n",
       "  </tbody>\n",
       "</table>\n",
       "<p>127 rows × 8 columns</p>\n",
       "</div>"
      ],
      "text/plain": [
       "    Date Article                                  Période  \\\n",
       "1     2024-05-03                     quatre premiers mois   \n",
       "2     2024-05-03   année glissante (de mai n-1 à avril n)   \n",
       "4     2024-04-02                      trois premiers mois   \n",
       "5     2024-04-02  année glissante (de avril n-1 à mars n)   \n",
       "7     2023-11-02                        dix premiers mois   \n",
       "..           ...                                      ...   \n",
       "193   2010-12-29                        Dix premiers mois   \n",
       "195   2010-12-08                         11 premiers mois   \n",
       "197   2010-12-29                       Sept premiers mois   \n",
       "199   2010-12-29                         10 premiers mois   \n",
       "201   2010-12-29                          8 premiers mois   \n",
       "\n",
       "     Films Français Année Courante  Films Français Année Précédente  \\\n",
       "1                             44.5                             47.8   \n",
       "2                             38.5                             41.2   \n",
       "4                             46.6                             50.2   \n",
       "5                             38.9                             41.4   \n",
       "7                             38.5                             42.0   \n",
       "..                             ...                              ...   \n",
       "193                           36.8                             47.0   \n",
       "195                           36.4                             36.6   \n",
       "197                           35.2                             50.1   \n",
       "199                           34.7                             36.5   \n",
       "201                           33.0                             33.5   \n",
       "\n",
       "     Films Américains Année Courante  Films Américains Année Précédente  \\\n",
       "1                               29.9                               39.5   \n",
       "2                               38.2                               44.0   \n",
       "4                               25.4                               37.1   \n",
       "5                               38.5                               42.5   \n",
       "7                               45.9                               36.9   \n",
       "..                               ...                                ...   \n",
       "193                             48.5                               44.3   \n",
       "195                             47.6                               48.9   \n",
       "197                             48.0                               42.3   \n",
       "199                             49.5                               47.9   \n",
       "201                             53.5                               49.0   \n",
       "\n",
       "     Autres Films Année Courante  Autres Films Année Précédente  \n",
       "1                           25.7                           12.7  \n",
       "2                           23.3                           14.8  \n",
       "4                           28.0                           12.7  \n",
       "5                           22.6                           16.1  \n",
       "7                           15.6                           21.0  \n",
       "..                           ...                            ...  \n",
       "193                         14.8                            8.7  \n",
       "195                         16.0                           14.5  \n",
       "197                         16.8                            7.6  \n",
       "199                         15.7                           15.7  \n",
       "201                         13.5                           17.5  \n",
       "\n",
       "[127 rows x 8 columns]"
      ]
     },
     "execution_count": 128,
     "metadata": {},
     "output_type": "execute_result"
    }
   ],
   "source": [
    "#### 6.3 Imputation des valeurs manquantes\n",
    "\n",
    "parts_marche_df.ffill()"
   ]
  },
  {
   "cell_type": "code",
   "execution_count": 129,
   "metadata": {},
   "outputs": [],
   "source": [
    "#### 6.4 Suppression des doublons\n",
    "\n",
    "parts_marche_df = parts_marche_df.drop_duplicates(\n",
    "    subset=['Date Article', 'Période'], keep='last'\n",
    ")"
   ]
  },
  {
   "cell_type": "code",
   "execution_count": 130,
   "metadata": {},
   "outputs": [
    {
     "name": "stdout",
     "output_type": "stream",
     "text": [
      "Aperçu Parts de marché nettoyé :\n",
      "<class 'pandas.core.frame.DataFrame'>\n",
      "Index: 126 entries, 1 to 201\n",
      "Data columns (total 8 columns):\n",
      " #   Column                             Non-Null Count  Dtype  \n",
      "---  ------                             --------------  -----  \n",
      " 0   Date Article                       126 non-null    object \n",
      " 1   Période                            126 non-null    object \n",
      " 2   Films Français Année Courante      126 non-null    float64\n",
      " 3   Films Français Année Précédente    107 non-null    float64\n",
      " 4   Films Américains Année Courante    126 non-null    float64\n",
      " 5   Films Américains Année Précédente  107 non-null    float64\n",
      " 6   Autres Films Année Courante        126 non-null    float64\n",
      " 7   Autres Films Année Précédente      107 non-null    float64\n",
      "dtypes: float64(6), object(2)\n",
      "memory usage: 8.9+ KB\n",
      "None\n",
      "  Date Article                                  Période  \\\n",
      "1   2024-05-03                     quatre premiers mois   \n",
      "2   2024-05-03   année glissante (de mai n-1 à avril n)   \n",
      "4   2024-04-02                      trois premiers mois   \n",
      "5   2024-04-02  année glissante (de avril n-1 à mars n)   \n",
      "7   2023-11-02                        dix premiers mois   \n",
      "\n",
      "   Films Français Année Courante  Films Français Année Précédente  \\\n",
      "1                           44.5                             47.8   \n",
      "2                           38.5                             41.2   \n",
      "4                           46.6                             50.2   \n",
      "5                           38.9                             41.4   \n",
      "7                           38.5                             42.0   \n",
      "\n",
      "   Films Américains Année Courante  Films Américains Année Précédente  \\\n",
      "1                             29.9                               39.5   \n",
      "2                             38.2                               44.0   \n",
      "4                             25.4                               37.1   \n",
      "5                             38.5                               42.5   \n",
      "7                             45.9                               36.9   \n",
      "\n",
      "   Autres Films Année Courante  Autres Films Année Précédente  \n",
      "1                         25.7                           12.7  \n",
      "2                         23.3                           14.8  \n",
      "4                         28.0                           12.7  \n",
      "5                         22.6                           16.1  \n",
      "7                         15.6                           21.0  \n"
     ]
    }
   ],
   "source": [
    "#### 6.5 Vérification finale\n",
    "\n",
    "print(\"Aperçu Parts de marché nettoyé :\")\n",
    "print(parts_marche_df.info())\n",
    "print(parts_marche_df.head())"
   ]
  },
  {
   "cell_type": "markdown",
   "metadata": {},
   "source": [
    "### 7. Nettoyage du dataset Acteurs"
   ]
  },
  {
   "cell_type": "code",
   "execution_count": 131,
   "metadata": {},
   "outputs": [
    {
     "name": "stdout",
     "output_type": "stream",
     "text": [
      "Acteurs après suppression des doublons : (499, 8)\n"
     ]
    }
   ],
   "source": [
    "#### 7.1 Suppression des doublons\n",
    "\n",
    "actor_df = actor_df.drop_duplicates(subset=['name', 'nationality'], keep='last')\n",
    "print(f\"Acteurs après suppression des doublons : {actor_df.shape}\")"
   ]
  },
  {
   "cell_type": "code",
   "execution_count": 132,
   "metadata": {},
   "outputs": [
    {
     "data": {
      "text/plain": [
       "0       3360134\n",
       "1       3083328\n",
       "2       3033394\n",
       "3       2643888\n",
       "4       1579207\n",
       "         ...   \n",
       "494    76669820\n",
       "495    76134103\n",
       "496    73392185\n",
       "497    73375624\n",
       "498    73021666\n",
       "Name: boxoffice_total, Length: 499, dtype: int64"
      ]
     },
     "execution_count": 132,
     "metadata": {},
     "output_type": "execute_result"
    }
   ],
   "source": [
    "#### 7.2 Gestion des valeurs manquantes\n",
    "\n",
    "actor_df['boxoffice_average'] = pd.to_numeric(actor_df['boxoffice_average'], errors='coerce')\n",
    "actor_df['boxoffice_total'] = pd.to_numeric(actor_df['boxoffice_total'], errors='coerce')\n",
    "\n",
    "actor_df['boxoffice_average'].fillna(0)\n",
    "actor_df['boxoffice_total'].fillna(0)"
   ]
  },
  {
   "cell_type": "code",
   "execution_count": 133,
   "metadata": {},
   "outputs": [],
   "source": [
    "#### 7.3 Vérification des types de données\n",
    "\n",
    "actor_df['amount_of_film_played_in'] = pd.to_numeric(actor_df['amount_of_film_played_in'], errors='coerce')"
   ]
  },
  {
   "cell_type": "code",
   "execution_count": 134,
   "metadata": {},
   "outputs": [
    {
     "name": "stdout",
     "output_type": "stream",
     "text": [
      "Aperçu Acteurs nettoyé :\n",
      "<class 'pandas.core.frame.DataFrame'>\n",
      "RangeIndex: 499 entries, 0 to 498\n",
      "Data columns (total 8 columns):\n",
      " #   Column                        Non-Null Count  Dtype \n",
      "---  ------                        --------------  ----- \n",
      " 0   amount_of_film_played_in      499 non-null    int64 \n",
      " 1   boxoffice_average             499 non-null    int64 \n",
      " 2   boxoffice_average_first_role  499 non-null    int64 \n",
      " 3   boxoffice_total               499 non-null    int64 \n",
      " 4   boxoffice_total_first_role    499 non-null    int64 \n",
      " 5   name                          499 non-null    object\n",
      " 6   nationality                   499 non-null    object\n",
      " 7   rank                          499 non-null    int64 \n",
      "dtypes: int64(6), object(2)\n",
      "memory usage: 31.3+ KB\n",
      "None\n",
      "   amount_of_film_played_in  boxoffice_average  boxoffice_average_first_role  \\\n",
      "0                        15             197655                        284469   \n",
      "1                        18              99462                         94796   \n",
      "2                        16              81984                        103371   \n",
      "3                        11             220324                        211238   \n",
      "4                         9              92895                        121477   \n",
      "\n",
      "   boxoffice_total  boxoffice_total_first_role           name nationality  \\\n",
      "0          3360134                     2275749    Jason Segel   américain   \n",
      "1          3083328                     1801124    Kate Hudson  américaine   \n",
      "2          3033394                     1964043   Mira Sorvino  américaine   \n",
      "3          2643888                     1056192  Alison Lohman  américaine   \n",
      "4          1579207                     1579207      Tim Allen   américain   \n",
      "\n",
      "   rank  \n",
      "0   551  \n",
      "1   552  \n",
      "2   553  \n",
      "3   554  \n",
      "4   555  \n"
     ]
    }
   ],
   "source": [
    "#### 7.4 Vérification finale\n",
    "\n",
    "print(\"Aperçu Acteurs nettoyé :\")\n",
    "print(actor_df.info())\n",
    "print(actor_df.head())"
   ]
  },
  {
   "cell_type": "markdown",
   "metadata": {},
   "source": [
    "### 8. Sauvegarde des données nettoyées\n"
   ]
  },
  {
   "cell_type": "code",
   "execution_count": 135,
   "metadata": {},
   "outputs": [
    {
     "name": "stdout",
     "output_type": "stream",
     "text": [
      "Données nettoyées sauvegardées avec succès !\n"
     ]
    }
   ],
   "source": [
    "\n",
    "# allocine_df.to_parquet('data_processed/allocine_cleaned.parquet', index=False)\n",
    "allocine_df.to_csv('data_processed/allocine_cleaned.csv', index=False)\n",
    "\n",
    "frequentation_df.to_parquet('data_processed/frequentation_cleaned.parquet', index=False)\n",
    "frequentation_df.to_csv('data_processed/frequentation_cleaned.csv', index=False)\n",
    "\n",
    "parts_marche_df.to_parquet('data_processed/parts_marche_cleaned.parquet', index=False)\n",
    "parts_marche_df.to_csv('data_processed/parts_marche_cleaned.csv', index=False)\n",
    "\n",
    "actor_df.to_parquet('data_processed/actor_cleaned.parquet', index=False)\n",
    "actor_df.to_csv('data_processed/actor_cleaned.csv', index=False)\n",
    "\n",
    "print(\"Données nettoyées sauvegardées avec succès !\")"
   ]
  }
 ],
 "metadata": {
  "kernelspec": {
   "display_name": "Python 3",
   "language": "python",
   "name": "python3"
  },
  "language_info": {
   "codemirror_mode": {
    "name": "ipython",
    "version": 3
   },
   "file_extension": ".py",
   "mimetype": "text/x-python",
   "name": "python",
   "nbconvert_exporter": "python",
   "pygments_lexer": "ipython3",
   "version": "3.12.3"
  }
 },
 "nbformat": 4,
 "nbformat_minor": 2
}
