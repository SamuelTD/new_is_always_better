{
 "cells": [
  {
   "cell_type": "code",
   "execution_count": 4,
   "id": "7691db1f",
   "metadata": {},
   "outputs": [
    {
     "data": {
      "text/plain": [
       "actors         4\n",
       "date           0\n",
       "directors      0\n",
       "editor         0\n",
       "genre          0\n",
       "langage        0\n",
       "length         0\n",
       "nationality    0\n",
       "title          0\n",
       "dtype: int64"
      ]
     },
     "execution_count": 4,
     "metadata": {},
     "output_type": "execute_result"
    }
   ],
   "source": [
    "import pandas as pd\n",
    "\n",
    "df = pd.read_csv(\"../allocine_spider_releases.csv\")\n",
    "df2  = df[[\"actors\", \"date\", \"directors\", \"editor\", \"genre\", \"langage\", \"length\", \"nationality\", \"title\"]]\n",
    "\n",
    "df2.isna().sum()\n"
   ]
  }
 ],
 "metadata": {
  "kernelspec": {
   "display_name": ".venv",
   "language": "python",
   "name": "python3"
  },
  "language_info": {
   "codemirror_mode": {
    "name": "ipython",
    "version": 3
   },
   "file_extension": ".py",
   "mimetype": "text/x-python",
   "name": "python",
   "nbconvert_exporter": "python",
   "pygments_lexer": "ipython3",
   "version": "3.12.3"
  }
 },
 "nbformat": 4,
 "nbformat_minor": 5
}
